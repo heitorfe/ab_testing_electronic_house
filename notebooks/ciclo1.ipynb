{
 "cells": [
  {
   "cell_type": "markdown",
   "id": "6a785158",
   "metadata": {},
   "source": [
    "# A/B Testing - Electronic House"
   ]
  },
  {
   "cell_type": "markdown",
   "id": "8e99787f",
   "metadata": {},
   "source": [
    "## Descrição"
   ]
  },
  {
   "cell_type": "markdown",
   "id": "0d7de2db",
   "metadata": {},
   "source": [
    "### Contexto\n",
    "\n",
    "A Electronic House é um comercio online ( e-commerce ) de produtos de informática para casas e escritórios. Os clientes podem comprar mouses, monitores, teclados, computadores, laptops, cabos HDMI, fones de ouvido, cameras webcam, entre outros, através de um site online e recebem os produtos no conforto de suas casas. O time de UX designers vem trabalhando em uma nova página de vendas, com o objetivo de aumentar a taxa de conversão de um produto da loja, um teclado bluetooth. O product manager (gerente de produto) disse que a taxa de conversão da página atual é de 13% em média, no último ano. O objetivo do product manager é aumentar a taxa de conversão em 2%, ou seja, a nova página de vendas, desenvolvida pelo time de UX, seria um sucesso se a sua taxa de conversão fosse de 15%. O teclado bluetooth possui um preço de venda de R$ 4.500,00 à vista ou parcelado em 12 % sem juros no cartão de crédito. Antes de trocar a página de vendas antiga pela nova, o product manager gostaria de testar a efetividade da nova página em um grupo menor de clientes, a fim de correr menos riscos de queda da conversão, caso a página nova mostre uma conversão pior do que a página atual.\n",
    "\n",
    "### Desafio\n",
    "\n",
    "Você foi contratado como um freelancer pela Electronic House para ajudar o time de\n",
    "Designers da nova página, a validar a sua efetividade de uma maneira mais segura,\n",
    "com mais confiança e rigidez na análise.\n",
    "Os entregáveis do seu trabalho são os seguintes:\n",
    "1. A conversão da nova página é realmente melhor do a conversão da página\n",
    "atual?\n",
    "2. Qual o potencial de número de vendas que a nova página pode trazer?\n",
    "3. Qual o faturamento total na venda do teclado bluetooth através da nova página?\n",
    "\n",
    "### Planejamento de Solução\n",
    "\n",
    "**Passo 1: Escolha do método**\n",
    "\n",
    "**1.1. Teste de hipóteses estatística.**\n",
    "\n",
    " Método de inferência estatística usado para decidir se os dados disponíveis são suficientes para suportar um hipóteses particular.\n",
    "\n",
    "**1.2. Teste A/B**\n",
    "\n",
    "Metodologia de pesquisa de experiência do usuário que aplica testes de hipóteses estatísticas para comparar duas ou mais versões de uma única variável, a fim de determinar qual das duas variantes é mais efetiva\n",
    "\n",
    "**Passo 2: Design do Experimento**\n",
    "\n",
    "\n",
    "**2.2. Escolha da variável.**\n",
    "Definição da métrica de avaliação ou variável dependente.\n",
    "\n",
    "**2.3. Separação dos grupos**\n",
    "* Separação do grupo de controle.\n",
    "* Separação do grupo de tratamento.\n",
    "* Definição da tamanho da amostra de cada grupo.\n",
    "\n",
    "**Passo 03: Coletando e preparando os dados**\n",
    "\n",
    "**3.1. Coleta dos dados:**\n",
    "* Definição da estrutura de coleta e armazenamento dos dados.\n",
    "* Criação da Flag do A/B.\n",
    "* Escolha das ferramentas de Teste A/B.\n",
    "\n",
    "**3.2. Preparação dos dados:**\n",
    "* Definição da estrutura de coleta e armazenamento dos dados.\n",
    "* Limpeza e verificação dos dados.\n",
    "\n",
    "**3.3. Conversões dos grupos:**\n",
    "* Cálculo da conversão do grupo controle.\n",
    "* Cálculo da conversão do grupo de tratamento.\n",
    "\n",
    "**Passo 04: Testando as Hipóteses**\n",
    "\n",
    "**4.1. Definição do método de inferência estatística**\n",
    "* t-Test\n",
    "* ANOVA\n",
    "* Chi-Squared\n",
    "* Cálculo do p-valor\n",
    "\n",
    "**Passo 05: Tirando as conclusões**\n",
    "\n",
    "* Interpretação do p-valor.\n",
    "* Validação das hipóteses iniciais.\n",
    "    * Conclusão.\n",
    "    * Cálculo do número de vendas potencial.\n",
    "    * Cálculo do faturamento pote"
   ]
  },
  {
   "cell_type": "markdown",
   "id": "c6fe9bd5",
   "metadata": {},
   "source": [
    "## 0. Imports"
   ]
  },
  {
   "cell_type": "code",
   "execution_count": 1,
   "id": "f26a81b3",
   "metadata": {
    "ExecuteTime": {
     "end_time": "2022-06-07T22:09:37.117229Z",
     "start_time": "2022-06-07T22:09:31.975293Z"
    }
   },
   "outputs": [],
   "source": [
    "import pandas as pd"
   ]
  },
  {
   "cell_type": "markdown",
   "id": "8242c116",
   "metadata": {},
   "source": [
    "### 0.1. Helper Functions"
   ]
  },
  {
   "cell_type": "code",
   "execution_count": 2,
   "id": "c2f27352",
   "metadata": {
    "ExecuteTime": {
     "end_time": "2022-06-07T22:09:37.122257Z",
     "start_time": "2022-06-07T22:09:37.119133Z"
    }
   },
   "outputs": [],
   "source": [
    "pd.set_option('max_rows', 100)"
   ]
  },
  {
   "cell_type": "markdown",
   "id": "945b2098",
   "metadata": {},
   "source": [
    "### 0.2. Load Dataset"
   ]
  },
  {
   "cell_type": "code",
   "execution_count": 3,
   "id": "e5fb6338",
   "metadata": {
    "ExecuteTime": {
     "end_time": "2022-06-07T22:09:37.507915Z",
     "start_time": "2022-06-07T22:09:37.124627Z"
    }
   },
   "outputs": [],
   "source": [
    "df_raw = pd.read_csv('../data/ab_testing.csv')"
   ]
  },
  {
   "cell_type": "markdown",
   "id": "c01f8a05",
   "metadata": {},
   "source": [
    "## 1. Data Description"
   ]
  },
  {
   "cell_type": "code",
   "execution_count": 4,
   "id": "5f11c5a8",
   "metadata": {
    "ExecuteTime": {
     "end_time": "2022-06-07T22:09:37.516214Z",
     "start_time": "2022-06-07T22:09:37.510932Z"
    }
   },
   "outputs": [],
   "source": [
    "df1 = df_raw.copy()"
   ]
  },
  {
   "cell_type": "markdown",
   "id": "36106e37",
   "metadata": {},
   "source": [
    "### 1.1. Data Dimensions"
   ]
  },
  {
   "cell_type": "code",
   "execution_count": 5,
   "id": "b1939b93",
   "metadata": {
    "ExecuteTime": {
     "end_time": "2022-06-07T22:09:37.642259Z",
     "start_time": "2022-06-07T22:09:37.517776Z"
    }
   },
   "outputs": [
    {
     "name": "stdout",
     "output_type": "stream",
     "text": [
      "Nº of rows: 45883\n",
      "Nº of cols: 8\n"
     ]
    }
   ],
   "source": [
    "print('Nº of rows: {}'.format(df1.shape[0]))\n",
    "print('Nº of cols: {}'.format(df1.shape[1]))"
   ]
  },
  {
   "cell_type": "markdown",
   "id": "67f899f1",
   "metadata": {
    "ExecuteTime": {
     "end_time": "2022-06-03T12:10:47.038499Z",
     "start_time": "2022-06-03T12:10:47.024528Z"
    }
   },
   "source": [
    "### 1.2. Data Types"
   ]
  },
  {
   "cell_type": "code",
   "execution_count": 6,
   "id": "c2f57fb4",
   "metadata": {
    "ExecuteTime": {
     "end_time": "2022-06-07T22:09:37.804472Z",
     "start_time": "2022-06-07T22:09:37.649529Z"
    }
   },
   "outputs": [
    {
     "data": {
      "text/plain": [
       "uid           int64\n",
       "country      object\n",
       "gender       object\n",
       "spent         int64\n",
       "purchases     int64\n",
       "date         object\n",
       "group        object\n",
       "device       object\n",
       "dtype: object"
      ]
     },
     "execution_count": 6,
     "metadata": {},
     "output_type": "execute_result"
    }
   ],
   "source": [
    "df1.dtypes"
   ]
  },
  {
   "cell_type": "markdown",
   "id": "9c825931",
   "metadata": {},
   "source": [
    "### 1.3. Change Dtypes"
   ]
  },
  {
   "cell_type": "code",
   "execution_count": 7,
   "id": "c0e83d4d",
   "metadata": {
    "ExecuteTime": {
     "end_time": "2022-06-07T22:09:37.920480Z",
     "start_time": "2022-06-07T22:09:37.808762Z"
    }
   },
   "outputs": [],
   "source": [
    "df1['date'] = pd.to_datetime(df1['date'])"
   ]
  },
  {
   "cell_type": "markdown",
   "id": "f68ec0b7",
   "metadata": {
    "ExecuteTime": {
     "end_time": "2022-06-03T12:11:30.057521Z",
     "start_time": "2022-06-03T12:11:29.997361Z"
    }
   },
   "source": [
    "### 1.4. Check NAs"
   ]
  },
  {
   "cell_type": "code",
   "execution_count": 8,
   "id": "8125bb66",
   "metadata": {
    "ExecuteTime": {
     "end_time": "2022-06-07T22:09:38.054834Z",
     "start_time": "2022-06-07T22:09:37.922762Z"
    }
   },
   "outputs": [
    {
     "data": {
      "text/plain": [
       "uid          0\n",
       "country      0\n",
       "gender       0\n",
       "spent        0\n",
       "purchases    0\n",
       "date         0\n",
       "group        0\n",
       "device       0\n",
       "dtype: int64"
      ]
     },
     "execution_count": 8,
     "metadata": {},
     "output_type": "execute_result"
    }
   ],
   "source": [
    "df1.isna().sum()"
   ]
  },
  {
   "cell_type": "markdown",
   "id": "38b1873c",
   "metadata": {},
   "source": [
    "### 1.5. Descriptive Statistics"
   ]
  },
  {
   "cell_type": "code",
   "execution_count": 9,
   "id": "4a55d9e4",
   "metadata": {
    "ExecuteTime": {
     "end_time": "2022-06-07T22:09:38.192819Z",
     "start_time": "2022-06-07T22:09:38.057235Z"
    }
   },
   "outputs": [],
   "source": [
    "num_attributes = df1[['spent', 'purchases']]\n",
    "cat_attributes = df1.select_dtypes('object')"
   ]
  },
  {
   "cell_type": "markdown",
   "id": "06200e0b",
   "metadata": {},
   "source": [
    "#### 1.5.1. Numerical Attributes "
   ]
  },
  {
   "cell_type": "code",
   "execution_count": 10,
   "id": "7116f728",
   "metadata": {
    "ExecuteTime": {
     "end_time": "2022-06-07T22:09:38.444653Z",
     "start_time": "2022-06-07T22:09:38.200638Z"
    }
   },
   "outputs": [
    {
     "data": {
      "text/html": [
       "<div>\n",
       "<style scoped>\n",
       "    .dataframe tbody tr th:only-of-type {\n",
       "        vertical-align: middle;\n",
       "    }\n",
       "\n",
       "    .dataframe tbody tr th {\n",
       "        vertical-align: top;\n",
       "    }\n",
       "\n",
       "    .dataframe thead th {\n",
       "        text-align: right;\n",
       "    }\n",
       "</style>\n",
       "<table border=\"1\" class=\"dataframe\">\n",
       "  <thead>\n",
       "    <tr style=\"text-align: right;\">\n",
       "      <th></th>\n",
       "      <th>spent</th>\n",
       "      <th>purchases</th>\n",
       "    </tr>\n",
       "  </thead>\n",
       "  <tbody>\n",
       "    <tr>\n",
       "      <th>count</th>\n",
       "      <td>45883.000000</td>\n",
       "      <td>45883.000000</td>\n",
       "    </tr>\n",
       "    <tr>\n",
       "      <th>mean</th>\n",
       "      <td>1883.453349</td>\n",
       "      <td>4.544385</td>\n",
       "    </tr>\n",
       "    <tr>\n",
       "      <th>std</th>\n",
       "      <td>1363.921546</td>\n",
       "      <td>3.102454</td>\n",
       "    </tr>\n",
       "    <tr>\n",
       "      <th>min</th>\n",
       "      <td>99.000000</td>\n",
       "      <td>1.000000</td>\n",
       "    </tr>\n",
       "    <tr>\n",
       "      <th>25%</th>\n",
       "      <td>897.000000</td>\n",
       "      <td>2.000000</td>\n",
       "    </tr>\n",
       "    <tr>\n",
       "      <th>50%</th>\n",
       "      <td>1596.000000</td>\n",
       "      <td>4.000000</td>\n",
       "    </tr>\n",
       "    <tr>\n",
       "      <th>75%</th>\n",
       "      <td>2593.000000</td>\n",
       "      <td>6.000000</td>\n",
       "    </tr>\n",
       "    <tr>\n",
       "      <th>max</th>\n",
       "      <td>12170.000000</td>\n",
       "      <td>30.000000</td>\n",
       "    </tr>\n",
       "  </tbody>\n",
       "</table>\n",
       "</div>"
      ],
      "text/plain": [
       "              spent     purchases\n",
       "count  45883.000000  45883.000000\n",
       "mean    1883.453349      4.544385\n",
       "std     1363.921546      3.102454\n",
       "min       99.000000      1.000000\n",
       "25%      897.000000      2.000000\n",
       "50%     1596.000000      4.000000\n",
       "75%     2593.000000      6.000000\n",
       "max    12170.000000     30.000000"
      ]
     },
     "execution_count": 10,
     "metadata": {},
     "output_type": "execute_result"
    }
   ],
   "source": [
    "num_attributes.describe()"
   ]
  },
  {
   "cell_type": "markdown",
   "id": "d125a152",
   "metadata": {},
   "source": [
    "#### 1.5.2. Categorical Attributes"
   ]
  },
  {
   "cell_type": "code",
   "execution_count": 11,
   "id": "394fe33a",
   "metadata": {
    "ExecuteTime": {
     "end_time": "2022-06-07T22:09:38.491497Z",
     "start_time": "2022-06-07T22:09:38.448064Z"
    }
   },
   "outputs": [
    {
     "data": {
      "text/html": [
       "<div>\n",
       "<style scoped>\n",
       "    .dataframe tbody tr th:only-of-type {\n",
       "        vertical-align: middle;\n",
       "    }\n",
       "\n",
       "    .dataframe tbody tr th {\n",
       "        vertical-align: top;\n",
       "    }\n",
       "\n",
       "    .dataframe thead th {\n",
       "        text-align: right;\n",
       "    }\n",
       "</style>\n",
       "<table border=\"1\" class=\"dataframe\">\n",
       "  <thead>\n",
       "    <tr style=\"text-align: right;\">\n",
       "      <th></th>\n",
       "      <th>country</th>\n",
       "      <th>gender</th>\n",
       "      <th>group</th>\n",
       "      <th>device</th>\n",
       "    </tr>\n",
       "  </thead>\n",
       "  <tbody>\n",
       "    <tr>\n",
       "      <th>count</th>\n",
       "      <td>45883</td>\n",
       "      <td>45883</td>\n",
       "      <td>45883</td>\n",
       "      <td>45883</td>\n",
       "    </tr>\n",
       "    <tr>\n",
       "      <th>unique</th>\n",
       "      <td>10</td>\n",
       "      <td>2</td>\n",
       "      <td>2</td>\n",
       "      <td>2</td>\n",
       "    </tr>\n",
       "    <tr>\n",
       "      <th>top</th>\n",
       "      <td>USA</td>\n",
       "      <td>M</td>\n",
       "      <td>GRP A</td>\n",
       "      <td>A</td>\n",
       "    </tr>\n",
       "    <tr>\n",
       "      <th>freq</th>\n",
       "      <td>13998</td>\n",
       "      <td>23116</td>\n",
       "      <td>23009</td>\n",
       "      <td>22982</td>\n",
       "    </tr>\n",
       "  </tbody>\n",
       "</table>\n",
       "</div>"
      ],
      "text/plain": [
       "       country gender  group device\n",
       "count    45883  45883  45883  45883\n",
       "unique      10      2      2      2\n",
       "top        USA      M  GRP A      A\n",
       "freq     13998  23116  23009  22982"
      ]
     },
     "execution_count": 11,
     "metadata": {},
     "output_type": "execute_result"
    }
   ],
   "source": [
    "cat_attributes.describe()"
   ]
  },
  {
   "cell_type": "markdown",
   "id": "118fd128",
   "metadata": {},
   "source": [
    "##### 1.5.2.1. Group"
   ]
  },
  {
   "cell_type": "code",
   "execution_count": 12,
   "id": "6507f30b",
   "metadata": {
    "ExecuteTime": {
     "end_time": "2022-06-07T22:09:38.578390Z",
     "start_time": "2022-06-07T22:09:38.493112Z"
    }
   },
   "outputs": [
    {
     "data": {
      "text/plain": [
       "GRP A    0.501471\n",
       "GRP B    0.498529\n",
       "Name: group, dtype: float64"
      ]
     },
     "execution_count": 12,
     "metadata": {},
     "output_type": "execute_result"
    }
   ],
   "source": [
    "df1['group'].value_counts(normalize=True)"
   ]
  },
  {
   "cell_type": "markdown",
   "id": "ce7e4c1a",
   "metadata": {},
   "source": [
    "##### 1.5.2.2. Gender"
   ]
  },
  {
   "cell_type": "code",
   "execution_count": 13,
   "id": "e1d453ac",
   "metadata": {
    "ExecuteTime": {
     "end_time": "2022-06-07T22:09:38.700673Z",
     "start_time": "2022-06-07T22:09:38.581214Z"
    }
   },
   "outputs": [
    {
     "data": {
      "text/plain": [
       "M    0.503803\n",
       "F    0.496197\n",
       "Name: gender, dtype: float64"
      ]
     },
     "execution_count": 13,
     "metadata": {},
     "output_type": "execute_result"
    }
   ],
   "source": [
    "df1['gender'].value_counts(normalize=True)"
   ]
  },
  {
   "cell_type": "markdown",
   "id": "76bb9969",
   "metadata": {},
   "source": [
    "##### 1.5.2.3. Country"
   ]
  },
  {
   "cell_type": "code",
   "execution_count": 14,
   "id": "0c59d626",
   "metadata": {
    "ExecuteTime": {
     "end_time": "2022-06-07T22:09:38.820618Z",
     "start_time": "2022-06-07T22:09:38.708318Z"
    }
   },
   "outputs": [
    {
     "data": {
      "text/plain": [
       "USA    0.305080\n",
       "BRA    0.196347\n",
       "MEX    0.120480\n",
       "DEU    0.080553\n",
       "TUR    0.077087\n",
       "FRA    0.061940\n",
       "GBR    0.061221\n",
       "ESP    0.042151\n",
       "CAN    0.032975\n",
       "AUS    0.022165\n",
       "Name: country, dtype: float64"
      ]
     },
     "execution_count": 14,
     "metadata": {},
     "output_type": "execute_result"
    }
   ],
   "source": [
    "df1['country'].value_counts(normalize=True)"
   ]
  },
  {
   "cell_type": "markdown",
   "id": "b3bf3438",
   "metadata": {},
   "source": [
    "# 2.0. Design do experimento"
   ]
  },
  {
   "cell_type": "code",
   "execution_count": 28,
   "id": "b6c86c08",
   "metadata": {
    "ExecuteTime": {
     "end_time": "2022-06-07T22:23:19.156247Z",
     "start_time": "2022-06-07T22:23:16.399762Z"
    }
   },
   "outputs": [],
   "source": [
    "import math\n",
    "from statsmodels.stats import api as sms\n",
    "import pingouin as pg"
   ]
  },
  {
   "cell_type": "markdown",
   "id": "a315555f",
   "metadata": {},
   "source": [
    "## 2.1. Formulação de Hipóteses"
   ]
  },
  {
   "cell_type": "markdown",
   "id": "9059ec66",
   "metadata": {},
   "source": [
    "## 2.2. Parâmetros de Experimentos"
   ]
  },
  {
   "cell_type": "code",
   "execution_count": 36,
   "id": "7d6ef367",
   "metadata": {
    "ExecuteTime": {
     "end_time": "2022-06-07T22:33:11.888772Z",
     "start_time": "2022-06-07T22:33:11.872198Z"
    }
   },
   "outputs": [],
   "source": [
    "x = df1[df1['group'] =='GRP A']\n",
    "y = df1[df1['group'] =='GRP B']"
   ]
  },
  {
   "cell_type": "code",
   "execution_count": 42,
   "id": "8a134e5d",
   "metadata": {
    "ExecuteTime": {
     "end_time": "2022-06-07T22:39:28.542024Z",
     "start_time": "2022-06-07T22:39:28.527166Z"
    }
   },
   "outputs": [],
   "source": [
    "#nivel de confianca\n",
    "confidence_level = 0.95\n",
    "\n",
    "#nivel de significancia\n",
    "significance_level = 0.05\n",
    "\n",
    "p1 = 0.13\n",
    "p2 = 0.15\n",
    "\n",
    "# tamanho do efeito\n",
    "effect_size = sms.proportion_effectsize(p1,p2)\n",
    "\n",
    "#poder estatistico\n",
    "power = 0.8"
   ]
  },
  {
   "cell_type": "code",
   "execution_count": 46,
   "id": "f62addf1",
   "metadata": {
    "ExecuteTime": {
     "end_time": "2022-06-07T22:40:00.048242Z",
     "start_time": "2022-06-07T22:40:00.018442Z"
    }
   },
   "outputs": [
    {
     "data": {
      "text/plain": [
       "4720"
      ]
     },
     "execution_count": 46,
     "metadata": {},
     "output_type": "execute_result"
    }
   ],
   "source": [
    "# sample size\n",
    "\n",
    "sample_n = sms.NormalIndPower().solve_power(\n",
    "                                 effect_size,\n",
    "                                 power= power,\n",
    "                                 alpha=significance_level\n",
    ")\n",
    "sample_n  = math.ceil(sample_n) \n",
    "sample_n"
   ]
  },
  {
   "cell_type": "code",
   "execution_count": null,
   "id": "bc1b260b",
   "metadata": {},
   "outputs": [],
   "source": []
  }
 ],
 "metadata": {
  "kernelspec": {
   "display_name": "Python 3 (ipykernel)",
   "language": "python",
   "name": "python3"
  },
  "language_info": {
   "codemirror_mode": {
    "name": "ipython",
    "version": 3
   },
   "file_extension": ".py",
   "mimetype": "text/x-python",
   "name": "python",
   "nbconvert_exporter": "python",
   "pygments_lexer": "ipython3",
   "version": "3.8.10"
  }
 },
 "nbformat": 4,
 "nbformat_minor": 5
}
